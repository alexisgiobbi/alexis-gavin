{
 "cells": [
  {
   "cell_type": "code",
   "execution_count": null,
   "metadata": {},
   "outputs": [],
   "source": []
  },
  {
   "cell_type": "code",
   "execution_count": null,
   "metadata": {},
   "outputs": [
    {
     "name": "stdin",
     "output_type": "stream",
     "text": [
      "Please enter your name Gavin\n"
     ]
    },
    {
     "name": "stdout",
     "output_type": "stream",
     "text": [
      "Gavin, this program will allow you to roll two dice and chose the maximum value of said dice\n"
     ]
    },
    {
     "name": "stdin",
     "output_type": "stream",
     "text": [
      "Enter the maximum value of the dice: 6\n"
     ]
    },
    {
     "name": "stdout",
     "output_type": "stream",
     "text": [
      "Roll them Bones!\n",
      "Your roll: 4\n",
      "My roll: 1\n",
      "Darn, you win. Play again?\n"
     ]
    },
    {
     "name": "stdin",
     "output_type": "stream",
     "text": [
      "Enter the maximum value of the dice: 6\n"
     ]
    },
    {
     "name": "stdout",
     "output_type": "stream",
     "text": [
      "Roll them Bones!\n",
      "Your roll: 6\n",
      "My roll: 2\n",
      "Darn, you win. Play again?\n"
     ]
    },
    {
     "name": "stdin",
     "output_type": "stream",
     "text": [
      "Enter the maximum value of the dice: 6\n"
     ]
    },
    {
     "name": "stdout",
     "output_type": "stream",
     "text": [
      "Roll them Bones!\n",
      "Your roll: 3\n",
      "My roll: 2\n",
      "Darn, you win. Play again?\n"
     ]
    },
    {
     "name": "stdin",
     "output_type": "stream",
     "text": [
      "Enter the maximum value of the dice: 6\n"
     ]
    },
    {
     "name": "stdout",
     "output_type": "stream",
     "text": [
      "Roll them Bones!\n",
      "Your roll: 3\n",
      "My roll: 6\n",
      "Haha, I won! Wanna redeem yourself?\n"
     ]
    },
    {
     "name": "stdin",
     "output_type": "stream",
     "text": [
      "Enter the maximum value of the dice: 6\n"
     ]
    },
    {
     "name": "stdout",
     "output_type": "stream",
     "text": [
      "Roll them Bones!\n",
      "Your roll: 6\n",
      "My roll: 6\n",
      "I guess we tied. Best two out of Three!\n"
     ]
    },
    {
     "name": "stdin",
     "output_type": "stream",
     "text": [
      "Enter the maximum value of the dice: 6\n"
     ]
    },
    {
     "name": "stdout",
     "output_type": "stream",
     "text": [
      "Roll them Bones!\n",
      "Your roll: 5\n",
      "My roll: 3\n",
      "Darn, you win. Play again?\n"
     ]
    }
   ],
   "source": [
    "name = input(\"Please enter your name\")\n",
    "print(name+\", this program will allow you to roll two dice\",\n",
    "      \"and chose the maximum value of said dice\")\n",
    "\n",
    "import random\n",
    "while(True):\n",
    "    max_val1 = int(input(\"Enter the maximum value of the dice:\"))\n",
    "\n",
    "    die1 = random.randint(1,max_val1)\n",
    "    die2 = random.randint(1,max_val1)\n",
    "\n",
    "    print(\"Roll them Bones!\")\n",
    "\n",
    "    print(\"Your roll:\", die1)\n",
    "    print(\"My roll:\", die2)\n",
    "\n",
    "    if(die1 > die2):\n",
    "        print(\"Darn, you win. Play again?\")\n",
    "    elif(die1 < die2):\n",
    "        print(\"Haha, I won! Wanna redeem yourself?\")\n",
    "    else:\n",
    "        print(\"I guess we tied. Best two out of Three!\")\n",
    "    "
   ]
  },
  {
   "cell_type": "code",
   "execution_count": null,
   "metadata": {},
   "outputs": [],
   "source": []
  }
 ],
 "metadata": {
  "kernelspec": {
   "display_name": "Python 3",
   "language": "python",
   "name": "python3"
  },
  "language_info": {
   "codemirror_mode": {
    "name": "ipython",
    "version": 3
   },
   "file_extension": ".py",
   "mimetype": "text/x-python",
   "name": "python",
   "nbconvert_exporter": "python",
   "pygments_lexer": "ipython3",
   "version": "3.8.3"
  }
 },
 "nbformat": 4,
 "nbformat_minor": 4
}
